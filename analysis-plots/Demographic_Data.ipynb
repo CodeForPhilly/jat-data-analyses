{
 "cells": [
  {
   "cell_type": "code",
   "execution_count": null,
   "id": "c01e54ac-a496-4413-bbc4-aa69bc2025b0",
   "metadata": {
    "scrolled": true
   },
   "outputs": [],
   "source": [
    "%pip install polars\n",
    "import polars as pl\n",
    "from plotnine import *\n",
    "\n",
    "df = pl.read_parquet(\"CPCMS_SentenceData.parquet\")\n",
    "cases = pl.read_parquet(\"CPCMS_CaseData.parquet\")\n",
    "\n",
    "judge_column = \"SentencingJudge\"\n",
    "\n",
    "unique_judges = df[judge_column].unique().to_list()\n",
    "\n",
    "for judge in unique_judges:\n",
    "    filtered_df = df.filter(pl.col(judge_column) == judge)\n",
    "    plot = (\n",
    "        filtered_df\n",
    "        .join(cases, on=\"DocketNumber\")\n",
    "        .groupby(\"SentenceType\", \"DefendantZipCode\")\n",
    "        .agg(pl.count())\n",
    "        .to_pandas()\n",
    "        >> ggplot(aes(x=\"SentenceType\", y=\"count\", fill=\"DefendantZipCode\")) + geom_col()\n",
    "        + labs(title=f\"Sentencing by {judge}\")\n",
    "    )\n",
    "    print(plot)\n"
   ]
  },
  {
   "cell_type": "code",
   "execution_count": null,
   "id": "86f8865e-b5a6-467a-897d-6fbb3a8f4c2c",
   "metadata": {},
   "outputs": [],
   "source": []
  }
 ],
 "metadata": {
  "kernelspec": {
   "display_name": "Python 3 (ipykernel)",
   "language": "python",
   "name": "python3"
  },
  "language_info": {
   "codemirror_mode": {
    "name": "ipython",
    "version": 3
   },
   "file_extension": ".py",
   "mimetype": "text/x-python",
   "name": "python",
   "nbconvert_exporter": "python",
   "pygments_lexer": "ipython3",
   "version": "3.11.7"
  }
 },
 "nbformat": 4,
 "nbformat_minor": 5
}
